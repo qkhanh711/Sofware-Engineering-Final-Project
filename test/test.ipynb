{
 "cells": [
  {
   "cell_type": "code",
   "execution_count": 1,
   "metadata": {},
   "outputs": [
    {
     "ename": "Error",
     "evalue": "datasets/lsun/bedroom_train_lmdb: No such file or directory",
     "output_type": "error",
     "traceback": [
      "\u001b[0;31m---------------------------------------------------------------------------\u001b[0m",
      "\u001b[0;31mError\u001b[0m                                     Traceback (most recent call last)",
      "Cell \u001b[0;32mIn[1], line 15\u001b[0m\n\u001b[1;32m      8\u001b[0m transform \u001b[39m=\u001b[39m transforms\u001b[39m.\u001b[39mCompose([\n\u001b[1;32m      9\u001b[0m     transforms\u001b[39m.\u001b[39mResize((\u001b[39m64\u001b[39m, \u001b[39m64\u001b[39m)),  \u001b[39m# Điều chỉnh kích thước ảnh\u001b[39;00m\n\u001b[1;32m     10\u001b[0m     transforms\u001b[39m.\u001b[39mToTensor(),  \u001b[39m# Chuyển đổi ảnh thành tensor\u001b[39;00m\n\u001b[1;32m     11\u001b[0m     transforms\u001b[39m.\u001b[39mNormalize((\u001b[39m0.5\u001b[39m, \u001b[39m0.5\u001b[39m, \u001b[39m0.5\u001b[39m), (\u001b[39m0.5\u001b[39m, \u001b[39m0.5\u001b[39m, \u001b[39m0.5\u001b[39m))  \u001b[39m# Chuẩn hóa giá trị pixel về khoảng [-1, 1]\u001b[39;00m\n\u001b[1;32m     12\u001b[0m ])\n\u001b[1;32m     14\u001b[0m \u001b[39m# Tải bộ dữ liệu LSUN (ví dụ: LSUN Bedroom)\u001b[39;00m\n\u001b[0;32m---> 15\u001b[0m lsun_dataset \u001b[39m=\u001b[39m datasets\u001b[39m.\u001b[39;49mLSUN(\n\u001b[1;32m     16\u001b[0m     root\u001b[39m=\u001b[39;49mdata_path,\n\u001b[1;32m     17\u001b[0m     classes\u001b[39m=\u001b[39;49m[\u001b[39m\"\u001b[39;49m\u001b[39mbedroom_train\u001b[39;49m\u001b[39m\"\u001b[39;49m],  \u001b[39m# Loại dữ liệu cụ thể (ví dụ: bedroom_train, church_outdoor_train, ...)\u001b[39;49;00m\n\u001b[1;32m     18\u001b[0m     transform\u001b[39m=\u001b[39;49mtransform\n\u001b[1;32m     19\u001b[0m )\n\u001b[1;32m     21\u001b[0m \u001b[39m# Tải dữ liệu\u001b[39;00m\n\u001b[1;32m     22\u001b[0m lsun_dataset\u001b[39m.\u001b[39mload()\n",
      "File \u001b[0;32m~/anaconda3/lib/python3.10/site-packages/torchvision/datasets/lsun.py:85\u001b[0m, in \u001b[0;36mLSUN.__init__\u001b[0;34m(self, root, classes, transform, target_transform)\u001b[0m\n\u001b[1;32m     83\u001b[0m \u001b[39mself\u001b[39m\u001b[39m.\u001b[39mdbs \u001b[39m=\u001b[39m []\n\u001b[1;32m     84\u001b[0m \u001b[39mfor\u001b[39;00m c \u001b[39min\u001b[39;00m \u001b[39mself\u001b[39m\u001b[39m.\u001b[39mclasses:\n\u001b[0;32m---> 85\u001b[0m     \u001b[39mself\u001b[39m\u001b[39m.\u001b[39mdbs\u001b[39m.\u001b[39mappend(LSUNClass(root\u001b[39m=\u001b[39;49mos\u001b[39m.\u001b[39;49mpath\u001b[39m.\u001b[39;49mjoin(root, \u001b[39mf\u001b[39;49m\u001b[39m\"\u001b[39;49m\u001b[39m{\u001b[39;49;00mc\u001b[39m}\u001b[39;49;00m\u001b[39m_lmdb\u001b[39;49m\u001b[39m\"\u001b[39;49m), transform\u001b[39m=\u001b[39;49mtransform))\n\u001b[1;32m     87\u001b[0m \u001b[39mself\u001b[39m\u001b[39m.\u001b[39mindices \u001b[39m=\u001b[39m []\n\u001b[1;32m     88\u001b[0m count \u001b[39m=\u001b[39m \u001b[39m0\u001b[39m\n",
      "File \u001b[0;32m~/anaconda3/lib/python3.10/site-packages/torchvision/datasets/lsun.py:22\u001b[0m, in \u001b[0;36mLSUNClass.__init__\u001b[0;34m(self, root, transform, target_transform)\u001b[0m\n\u001b[1;32m     18\u001b[0m \u001b[39mimport\u001b[39;00m \u001b[39mlmdb\u001b[39;00m\n\u001b[1;32m     20\u001b[0m \u001b[39msuper\u001b[39m()\u001b[39m.\u001b[39m\u001b[39m__init__\u001b[39m(root, transform\u001b[39m=\u001b[39mtransform, target_transform\u001b[39m=\u001b[39mtarget_transform)\n\u001b[0;32m---> 22\u001b[0m \u001b[39mself\u001b[39m\u001b[39m.\u001b[39menv \u001b[39m=\u001b[39m lmdb\u001b[39m.\u001b[39;49mopen(root, max_readers\u001b[39m=\u001b[39;49m\u001b[39m1\u001b[39;49m, readonly\u001b[39m=\u001b[39;49m\u001b[39mTrue\u001b[39;49;00m, lock\u001b[39m=\u001b[39;49m\u001b[39mFalse\u001b[39;49;00m, readahead\u001b[39m=\u001b[39;49m\u001b[39mFalse\u001b[39;49;00m, meminit\u001b[39m=\u001b[39;49m\u001b[39mFalse\u001b[39;49;00m)\n\u001b[1;32m     23\u001b[0m \u001b[39mwith\u001b[39;00m \u001b[39mself\u001b[39m\u001b[39m.\u001b[39menv\u001b[39m.\u001b[39mbegin(write\u001b[39m=\u001b[39m\u001b[39mFalse\u001b[39;00m) \u001b[39mas\u001b[39;00m txn:\n\u001b[1;32m     24\u001b[0m     \u001b[39mself\u001b[39m\u001b[39m.\u001b[39mlength \u001b[39m=\u001b[39m txn\u001b[39m.\u001b[39mstat()[\u001b[39m\"\u001b[39m\u001b[39mentries\u001b[39m\u001b[39m\"\u001b[39m]\n",
      "\u001b[0;31mError\u001b[0m: datasets/lsun/bedroom_train_lmdb: No such file or directory"
     ]
    }
   ],
   "source": [
    "import torchvision.datasets as datasets\n",
    "import torchvision.transforms as transforms\n",
    "\n",
    "# Đường dẫn lưu trữ dữ liệu LSUN\n",
    "data_path = \"datasets/lsun\"\n",
    "\n",
    "# Chuẩn bị các biến đổi (transforms) cho dữ liệu\n",
    "transform = transforms.Compose([\n",
    "    transforms.Resize((64, 64)),  # Điều chỉnh kích thước ảnh\n",
    "    transforms.ToTensor(),  # Chuyển đổi ảnh thành tensor\n",
    "    transforms.Normalize((0.5, 0.5, 0.5), (0.5, 0.5, 0.5))  # Chuẩn hóa giá trị pixel về khoảng [-1, 1]\n",
    "])\n",
    "\n",
    "# Tải bộ dữ liệu LSUN (ví dụ: LSUN Bedroom)\n",
    "lsun_dataset = datasets.LSUN(\n",
    "    root=data_path,\n",
    "    classes=[\"bedroom_train\"],  # Loại dữ liệu cụ thể (ví dụ: bedroom_train, church_outdoor_train, ...)\n",
    "    transform=transform\n",
    ")\n",
    "\n",
    "# Tải dữ liệu\n",
    "lsun_dataset.load()"
   ]
  },
  {
   "cell_type": "code",
   "execution_count": null,
   "metadata": {},
   "outputs": [],
   "source": []
  }
 ],
 "metadata": {
  "kernelspec": {
   "display_name": "base",
   "language": "python",
   "name": "python3"
  },
  "language_info": {
   "codemirror_mode": {
    "name": "ipython",
    "version": 3
   },
   "file_extension": ".py",
   "mimetype": "text/x-python",
   "name": "python",
   "nbconvert_exporter": "python",
   "pygments_lexer": "ipython3",
   "version": "3.10.9"
  },
  "orig_nbformat": 4
 },
 "nbformat": 4,
 "nbformat_minor": 2
}
